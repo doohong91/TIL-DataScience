{
 "cells": [
  {
   "cell_type": "markdown",
   "metadata": {},
   "source": [
    "### Task\n",
    "1. Import eveyrthing."
   ]
  },
  {
   "cell_type": "code",
   "execution_count": 1,
   "metadata": {},
   "outputs": [],
   "source": [
    "import numpy as np\n",
    "import pandas as pd\n",
    "import matplotlib.pyplot as plt\n",
    "import scipy.stats as stat\n",
    "import math\n",
    "%matplotlib inline"
   ]
  },
  {
   "cell_type": "markdown",
   "metadata": {},
   "source": [
    "## one-sample t-test\n",
    "### Task\n",
    "1. Given the following sample, test if its true mean is 1.75.\n",
    "2. Remember, for sample stdev or variance, set ddof = 1.\n",
    "3. Compute the t_value and p_value.\n",
    "4. Plot it.\n",
    "5. Make it two-sided.\n",
    "https://docs.scipy.org/doc/scipy/reference/generated/scipy.stats.ttest_1samp.html\n",
    "https://docs.scipy.org/doc/scipy/reference/generated/scipy.stats.t.html"
   ]
  },
  {
   "cell_type": "code",
   "execution_count": 43,
   "metadata": {},
   "outputs": [
    {
     "name": "stdout",
     "output_type": "stream",
     "text": [
      "Reject H0\n"
     ]
    }
   ],
   "source": [
    "# Given\n",
    "np.random.seed(42)\n",
    "n = 100\n",
    "x = np.random.normal(loc=1.78, scale=.1, size=n)\n",
    "\n",
    "mean,var,stdev = np.mean(x),np.var(x),np.std(x)\n",
    "t_val,p_val = stat.ttest_1samp(x, 1.75)\n",
    "\n",
    "\n",
    "alpha = 0.05\n",
    "if p > alpha:\n",
    "    print('H0 is True')\n",
    "else:\n",
    "    print('Reject H0')"
   ]
  },
  {
   "cell_type": "code",
   "execution_count": 44,
   "metadata": {},
   "outputs": [
    {
     "data": {
      "text/plain": [
       "<function matplotlib.pyplot.show(*args, **kw)>"
      ]
     },
     "execution_count": 44,
     "metadata": {},
     "output_type": "execute_result"
    },
    {
     "data": {
      "image/png": "[encoded data removed]",
      "text/plain": [
       "<Figure size 432x288 with 1 Axes>"
      ]
     },
     "metadata": {},
     "output_type": "display_data"
    }
   ],
   "source": [
    "t = np.linspace(-5,5,100)\n",
    "prob = stat.t.pdf(t, n-1)\n",
    "plt.plot(t,prob,'b-')\n",
    "\n",
    "lower = t[t < -t_val]\n",
    "upper = t[t > t_val]\n",
    "\n",
    "plt.fill_between(lower, 0, stat.t.pdf(lower,n-1))\n",
    "plt.fill_between(upper, 0, stat.t.pdf(upper,n-1))\n",
    "plt.show()"
   ]
  },
  {
   "cell_type": "markdown",
   "metadata": {},
   "source": [
    "## two-smaple t-test\n",
    "### Task\n",
    "1. Create two normally distributed random data sets, data_1 and data_2."
   ]
  },
  {
   "cell_type": "code",
   "execution_count": 74,
   "metadata": {},
   "outputs": [],
   "source": [
    "data_1 = np.random.randn(1000)*2 + 4\n",
    "data_2 = np.random.randn(1000)*2.1 + 3.795"
   ]
  },
  {
   "cell_type": "markdown",
   "metadata": {},
   "source": [
    "### Task\n",
    "1. t-test them. See if they can be considered equal.\n",
    "https://docs.scipy.org/doc/scipy/reference/generated/scipy.stats.ttest_ind.html"
   ]
  },
  {
   "cell_type": "code",
   "execution_count": 75,
   "metadata": {},
   "outputs": [
    {
     "data": {
      "text/plain": [
       "(1.24339574286403, 0.2138679139671295)"
      ]
     },
     "execution_count": 75,
     "metadata": {},
     "output_type": "execute_result"
    }
   ],
   "source": [
    "t_val, p_val = stat.ttest_ind(data_1,data_2)\n",
    "t_val, p_val"
   ]
  },
  {
   "cell_type": "markdown",
   "metadata": {},
   "source": [
    "### Task\n",
    "1. Given the two samples, tell if their means are equal, using t-test, assuming equal variance. "
   ]
  },
  {
   "cell_type": "code",
   "execution_count": 76,
   "metadata": {},
   "outputs": [
    {
     "data": {
      "text/plain": [
       "(0.986624815132843, 0.32708551855813683)"
      ]
     },
     "execution_count": 76,
     "metadata": {},
     "output_type": "execute_result"
    }
   ],
   "source": [
    "# Given\n",
    "np.random.seed(42)\n",
    "n_x, n_y = 50, 25\n",
    "x = np.random.normal(loc=1.76, scale = .1, size = n_x)\n",
    "y = np.random.normal(loc=1.70, scale = .12, size = n_y)\n",
    "\n",
    "t_val, p_val = stat.ttest_ind(x,y)\n",
    "t_val, p_val"
   ]
  },
  {
   "cell_type": "markdown",
   "metadata": {},
   "source": [
    "### Task\n",
    "1. Plot two-tailed."
   ]
  },
  {
   "cell_type": "code",
   "execution_count": 81,
   "metadata": {},
   "outputs": [
    {
     "data": {
      "image/png": "[encoded data removed]",
      "text/plain": [
       "<Figure size 432x288 with 1 Axes>"
      ]
     },
     "metadata": {},
     "output_type": "display_data"
    }
   ],
   "source": [
    "t = np.linspace(-5,5,75)\n",
    "prob = stat.t.pdf(t, n_y-1)\n",
    "plt.plot(t,prob,'b-')\n",
    "\n",
    "lower = t[t < -t_val]\n",
    "upper = t[t > t_val]\n",
    "\n",
    "plt.fill_between(lower, 0, stat.t.pdf(lower,n_y-1))\n",
    "plt.fill_between(upper, 0, stat.t.pdf(upper,n_y-1))\n",
    "plt.show()"
   ]
  },
  {
   "cell_type": "code",
   "execution_count": null,
   "metadata": {},
   "outputs": [],
   "source": []
  }
 ],
 "metadata": {
  "kernelspec": {
   "display_name": "Python 3",
   "language": "python",
   "name": "python3"
  },
  "language_info": {
   "codemirror_mode": {
    "name": "ipython",
    "version": 3
   },
   "file_extension": ".py",
   "mimetype": "text/x-python",
   "name": "python",
   "nbconvert_exporter": "python",
   "pygments_lexer": "ipython3",
   "version": "3.6.5"
  }
 },
 "nbformat": 4,
 "nbformat_minor": 2
}
