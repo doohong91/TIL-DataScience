{
 "cells": [
  {
   "cell_type": "markdown",
   "metadata": {},
   "source": [
    "### Task\n",
    "1. import numpy, scipy.stats, matplotlib.pyplot as np, stat, plt\n",
    "2. import math"
   ]
  },
  {
   "cell_type": "code",
   "execution_count": 7,
   "metadata": {},
   "outputs": [],
   "source": [
    "import numpy as np\n",
    "import pandas as pd\n",
    "import scipy.stats as stat\n",
    "import matplotlib.pyplot as plt\n",
    "import math\n",
    "%matplotlib inline"
   ]
  },
  {
   "cell_type": "markdown",
   "metadata": {},
   "source": [
    "### 1. mean\n",
    "https://docs.scipy.org/doc/numpy/reference/generated/numpy.mean.html\n",
    "\n",
    "##### Expected outcome:   \n",
    "\n",
    "Explicit Average: (5.9 + 5.5 + 6.1 + 6.0 + 7.2) / 5 = 6.14\n",
    "\n",
    "Better Average: sum(heights) / len(heights) = 6.14\n",
    "\n",
    "Explicitly with the list 6.14\n",
    "\n",
    "Numpy Average: np.mean(heights) = 6.14"
   ]
  },
  {
   "cell_type": "code",
   "execution_count": 16,
   "metadata": {},
   "outputs": [
    {
     "name": "stdout",
     "output_type": "stream",
     "text": [
      "Explicit Average: (5.9 + 5.5 + 6.1 + 6.0 + 7.2) / 5 =  6.14\n",
      "Better Average: sum(heights) / len(heights) =  6.14\n",
      "Explicitly with the list 6.14\n",
      "Numpy Average: np.mean(heights) = 6.14\n"
     ]
    }
   ],
   "source": [
    "# the height data\n",
    "height = [5.9, 5.5, 6.1, 6.0, 7.2]\n",
    "avg2 =  sum(height)/len(height)\n",
    "print('Explicit Average: (5.9 + 5.5 + 6.1 + 6.0 + 7.2) / 5 = ',(5.9 + 5.5 + 6.1 + 6.0 + 7.2) / 5)\n",
    "print('Better Average: sum(heights) / len(heights) = ',avg2)\n",
    "avg3=0\n",
    "for i in height:\n",
    "    avg3 += i\n",
    "avg3 = avg3/len(height)\n",
    "print('Explicitly with the list',avg3)\n",
    "print('Numpy Average: np.mean(heights) =', np.mean(height))"
   ]
  },
  {
   "cell_type": "markdown",
   "metadata": {},
   "source": [
    "### 2. mean with outlier (2 decimal points %.2f %np.mean())\n",
    "##### Expected outcome:\n",
    "\n",
    "No outliers average: 6.14\n",
    "\n",
    "Data + baby average: 5.28\n",
    "\n",
    "Data + sasquatch average: 6.78"
   ]
  },
  {
   "cell_type": "code",
   "execution_count": 19,
   "metadata": {},
   "outputs": [
    {
     "name": "stdout",
     "output_type": "stream",
     "text": [
      "No outliers average: 6.14\n",
      "Data + baby average:5.28\n",
      "Data + sasquatch average:6.78\n"
     ]
    }
   ],
   "source": [
    "# heights with a baby included\n",
    "height_baby = [5.9, 5.5, 6.1, 6.0, 7.2, 1.0]\n",
    "\n",
    "# heights with a sasquatch included\n",
    "height_sasquatch = [5.9, 5.5, 6.1, 6.0, 7.2, 10.0]\n",
    "\n",
    "\n",
    "print('No outliers average: %.2f'%np.mean(height))\n",
    "print('Data + baby average:%.2f'%np.mean(height_baby))\n",
    "print('Data + sasquatch average:%.2f'%np.mean(height_sasquatch))"
   ]
  },
  {
   "cell_type": "markdown",
   "metadata": {},
   "source": [
    "### 3. median\n",
    "https://docs.scipy.org/doc/numpy-1.14.0/reference/generated/numpy.median.html\n",
    "##### Expected outcome:\n",
    "\n",
    "Mean: 3.79\n",
    "\n",
    "Median: 3.00"
   ]
  },
  {
   "cell_type": "code",
   "execution_count": 25,
   "metadata": {},
   "outputs": [
    {
     "name": "stdout",
     "output_type": "stream",
     "text": [
      "Mean:3.79\n",
      "Median:3.00\n"
     ]
    }
   ],
   "source": [
    "values = [0., 1., 2., 3., 4., 5., 6., 7.]\n",
    "counts = [18, 36, 22, 58, 12, 6, 100, 7]\n",
    "\n",
    "# to put them in order use for.. loop\n",
    "data=[]\n",
    "for i in range(len(counts)):\n",
    "    for j in range(counts[i]):\n",
    "        data.append(values[i])\n",
    "print(\"Mean:%.2f\"%np.mean(data))\n",
    "print(\"Median:%.2f\"%np.median(data))"
   ]
  },
  {
   "cell_type": "markdown",
   "metadata": {},
   "source": [
    "### 4. Mode\n",
    "https://docs.scipy.org/doc/scipy/reference/generated/scipy.stats.mode.html\n",
    "##### Expected outcome:\n",
    "Mode: 6"
   ]
  },
  {
   "cell_type": "code",
   "execution_count": 28,
   "metadata": {},
   "outputs": [
    {
     "name": "stdout",
     "output_type": "stream",
     "text": [
      "Mode: [6.]\n"
     ]
    }
   ],
   "source": [
    "values = [0., 1., 2., 3., 4., 5., 6., 7.]\n",
    "counts = [18, 36, 22, 58, 12, 6, 100, 7]\n",
    "\n",
    "# to put them in order, use for.. loop\n",
    "data=[]\n",
    "for i in range(len(counts)):\n",
    "    for j in range(counts[i]):\n",
    "        data.append(values[i])\n",
    "print(\"Mode:\",stat.mode(data)[0])"
   ]
  },
  {
   "cell_type": "markdown",
   "metadata": {},
   "source": [
    "### 5. Quantile/Quartile/Percentile\n",
    "0 quartile = 0 quantile = 0 percentile\n",
    "\n",
    "1 quartile = 0.25 quantile = 25 percentile\n",
    "\n",
    "2 quartile = .5 quantile = 50 percentile (median)\n",
    "\n",
    "3 quartile = .75 quantile = 75 percentile\n",
    "\n",
    "4 quartile = 1 quantile = 100 percentile\n",
    "\n",
    "https://docs.scipy.org/doc/numpy/reference/generated/numpy.percentile.html\n",
    "##### Expected outcome:\n",
    "Mean: 3.79\n",
    "\n",
    "Median: 3.00\n",
    "\n",
    "Mode: 6.00\n",
    "\n",
    "25 percentile: 2.00\n",
    "\n",
    "50 percentile: 3.00\n",
    "\n",
    "75 percentile: 6.00\n",
    "\n",
    "100 percentile: 7.00"
   ]
  },
  {
   "cell_type": "code",
   "execution_count": 32,
   "metadata": {},
   "outputs": [
    {
     "name": "stdout",
     "output_type": "stream",
     "text": [
      "Mean:3.79\n",
      "Median:3.00\n",
      "Mode: [6.]\n",
      "25 percentile: 2.0\n",
      "50 percentile: 3.0\n",
      "75 percentile: 6.0\n",
      "100 percentile: 7.0\n"
     ]
    }
   ],
   "source": [
    "values = [0., 1., 2., 3., 4., 5., 6., 7.]\n",
    "counts = [18, 36, 22, 58, 12, 6, 100, 7]\n",
    "# to put them in order, use for.. loop\n",
    "data=[]\n",
    "for i in range(len(counts)):\n",
    "    for j in range(counts[i]):\n",
    "        data.append(values[i])\n",
    "print(\"Mean:%.2f\"%np.mean(data))\n",
    "print(\"Median:%.2f\"%np.median(data))\n",
    "print(\"Mode:\",stat.mode(data)[0])\n",
    "print(\"25 percentile:\",np.percentile(data, 25))\n",
    "print(\"50 percentile:\",np.percentile(data, 50))\n",
    "print(\"75 percentile:\",np.percentile(data, 75))\n",
    "print(\"100 percentile:\",np.percentile(data, 100.0))"
   ]
  },
  {
   "cell_type": "markdown",
   "metadata": {},
   "source": [
    "### Visualize: plt.boxplot(list), plt.hist(list, # of bin)"
   ]
  },
  {
   "cell_type": "code",
   "execution_count": null,
   "metadata": {},
   "outputs": [],
   "source": []
  },
  {
   "cell_type": "code",
   "execution_count": 53,
   "metadata": {},
   "outputs": [
    {
     "data": {
      "image/png": "[encoded data removed]",
      "text/plain": [
       "<Figure size 360x360 with 1 Axes>"
      ]
     },
     "metadata": {},
     "output_type": "display_data"
    }
   ],
   "source": [
    "# histogram with a data list, # of bin, patches\n",
    "plt.figure(figsize=(5,5))\n",
    "plt.hist(data, bins = 8)\n",
    "plt.show()"
   ]
  },
  {
   "cell_type": "code",
   "execution_count": 48,
   "metadata": {},
   "outputs": [
    {
     "data": {
      "image/png": "[encoded data removed]",
      "text/plain": [
       "<Figure size 360x360 with 1 Axes>"
      ]
     },
     "metadata": {},
     "output_type": "display_data"
    }
   ],
   "source": [
    "# box plot for quantiles.\n",
    "plt.figure(figsize=(5,5))\n",
    "plt.boxplot(data)\n",
    "plt.show()"
   ]
  },
  {
   "cell_type": "markdown",
   "metadata": {},
   "source": [
    "### Extra\n",
    "Use 'phone_data.csv' from ch01, find the central tendency of duration."
   ]
  },
  {
   "cell_type": "code",
   "execution_count": 50,
   "metadata": {},
   "outputs": [
    {
     "data": {
      "text/html": [
       "<div>\n",
       "<style scoped>\n",
       "    .dataframe tbody tr th:only-of-type {\n",
       "        vertical-align: middle;\n",
       "    }\n",
       "\n",
       "    .dataframe tbody tr th {\n",
       "        vertical-align: top;\n",
       "    }\n",
       "\n",
       "    .dataframe thead th {\n",
       "        text-align: right;\n",
       "    }\n",
       "</style>\n",
       "<table border=\"1\" class=\"dataframe\">\n",
       "  <thead>\n",
       "    <tr style=\"text-align: right;\">\n",
       "      <th></th>\n",
       "      <th>index</th>\n",
       "      <th>date</th>\n",
       "      <th>duration</th>\n",
       "      <th>item</th>\n",
       "      <th>month</th>\n",
       "      <th>network</th>\n",
       "      <th>network_type</th>\n",
       "    </tr>\n",
       "  </thead>\n",
       "  <tbody>\n",
       "    <tr>\n",
       "      <th>0</th>\n",
       "      <td>0</td>\n",
       "      <td>15/10/14 06:58</td>\n",
       "      <td>34.429</td>\n",
       "      <td>data</td>\n",
       "      <td>2014-11</td>\n",
       "      <td>data</td>\n",
       "      <td>data</td>\n",
       "    </tr>\n",
       "    <tr>\n",
       "      <th>1</th>\n",
       "      <td>1</td>\n",
       "      <td>15/10/14 06:58</td>\n",
       "      <td>13.000</td>\n",
       "      <td>call</td>\n",
       "      <td>2014-11</td>\n",
       "      <td>Vodafone</td>\n",
       "      <td>mobile</td>\n",
       "    </tr>\n",
       "    <tr>\n",
       "      <th>2</th>\n",
       "      <td>2</td>\n",
       "      <td>15/10/14 14:46</td>\n",
       "      <td>23.000</td>\n",
       "      <td>call</td>\n",
       "      <td>2014-11</td>\n",
       "      <td>Meteor</td>\n",
       "      <td>mobile</td>\n",
       "    </tr>\n",
       "    <tr>\n",
       "      <th>3</th>\n",
       "      <td>3</td>\n",
       "      <td>15/10/14 14:48</td>\n",
       "      <td>4.000</td>\n",
       "      <td>call</td>\n",
       "      <td>2014-11</td>\n",
       "      <td>Tesco</td>\n",
       "      <td>mobile</td>\n",
       "    </tr>\n",
       "    <tr>\n",
       "      <th>4</th>\n",
       "      <td>4</td>\n",
       "      <td>15/10/14 17:27</td>\n",
       "      <td>4.000</td>\n",
       "      <td>call</td>\n",
       "      <td>2014-11</td>\n",
       "      <td>Tesco</td>\n",
       "      <td>mobile</td>\n",
       "    </tr>\n",
       "  </tbody>\n",
       "</table>\n",
       "</div>"
      ],
      "text/plain": [
       "   index            date  duration  item    month   network network_type\n",
       "0      0  15/10/14 06:58    34.429  data  2014-11      data         data\n",
       "1      1  15/10/14 06:58    13.000  call  2014-11  Vodafone       mobile\n",
       "2      2  15/10/14 14:46    23.000  call  2014-11    Meteor       mobile\n",
       "3      3  15/10/14 14:48     4.000  call  2014-11     Tesco       mobile\n",
       "4      4  15/10/14 17:27     4.000  call  2014-11     Tesco       mobile"
      ]
     },
     "execution_count": 50,
     "metadata": {},
     "output_type": "execute_result"
    }
   ],
   "source": [
    "df = pd.read_csv('phone_data.csv')\n",
    "df.head()"
   ]
  },
  {
   "cell_type": "code",
   "execution_count": 51,
   "metadata": {},
   "outputs": [
    {
     "data": {
      "text/html": [
       "<div>\n",
       "<style scoped>\n",
       "    .dataframe tbody tr th:only-of-type {\n",
       "        vertical-align: middle;\n",
       "    }\n",
       "\n",
       "    .dataframe tbody tr th {\n",
       "        vertical-align: top;\n",
       "    }\n",
       "\n",
       "    .dataframe thead th {\n",
       "        text-align: right;\n",
       "    }\n",
       "</style>\n",
       "<table border=\"1\" class=\"dataframe\">\n",
       "  <thead>\n",
       "    <tr style=\"text-align: right;\">\n",
       "      <th></th>\n",
       "      <th>index</th>\n",
       "      <th>duration</th>\n",
       "    </tr>\n",
       "  </thead>\n",
       "  <tbody>\n",
       "    <tr>\n",
       "      <th>count</th>\n",
       "      <td>830.000000</td>\n",
       "      <td>830.000000</td>\n",
       "    </tr>\n",
       "    <tr>\n",
       "      <th>mean</th>\n",
       "      <td>414.500000</td>\n",
       "      <td>117.804036</td>\n",
       "    </tr>\n",
       "    <tr>\n",
       "      <th>std</th>\n",
       "      <td>239.744656</td>\n",
       "      <td>444.129560</td>\n",
       "    </tr>\n",
       "    <tr>\n",
       "      <th>min</th>\n",
       "      <td>0.000000</td>\n",
       "      <td>1.000000</td>\n",
       "    </tr>\n",
       "    <tr>\n",
       "      <th>25%</th>\n",
       "      <td>207.250000</td>\n",
       "      <td>1.000000</td>\n",
       "    </tr>\n",
       "    <tr>\n",
       "      <th>50%</th>\n",
       "      <td>414.500000</td>\n",
       "      <td>24.500000</td>\n",
       "    </tr>\n",
       "    <tr>\n",
       "      <th>75%</th>\n",
       "      <td>621.750000</td>\n",
       "      <td>55.000000</td>\n",
       "    </tr>\n",
       "    <tr>\n",
       "      <th>max</th>\n",
       "      <td>829.000000</td>\n",
       "      <td>10528.000000</td>\n",
       "    </tr>\n",
       "  </tbody>\n",
       "</table>\n",
       "</div>"
      ],
      "text/plain": [
       "            index      duration\n",
       "count  830.000000    830.000000\n",
       "mean   414.500000    117.804036\n",
       "std    239.744656    444.129560\n",
       "min      0.000000      1.000000\n",
       "25%    207.250000      1.000000\n",
       "50%    414.500000     24.500000\n",
       "75%    621.750000     55.000000\n",
       "max    829.000000  10528.000000"
      ]
     },
     "execution_count": 51,
     "metadata": {},
     "output_type": "execute_result"
    }
   ],
   "source": [
    "df.describe()"
   ]
  },
  {
   "cell_type": "code",
   "execution_count": 54,
   "metadata": {},
   "outputs": [
    {
     "name": "stdout",
     "output_type": "stream",
     "text": [
      "Mode: [1.]\n"
     ]
    }
   ],
   "source": [
    "print(\"Mode:\",stat.mode(df['duration'])[0])"
   ]
  },
  {
   "cell_type": "code",
   "execution_count": null,
   "metadata": {},
   "outputs": [],
   "source": []
  }
 ],
 "metadata": {
  "kernelspec": {
   "display_name": "Python 3",
   "language": "python",
   "name": "python3"
  },
  "language_info": {
   "codemirror_mode": {
    "name": "ipython",
    "version": 3
   },
   "file_extension": ".py",
   "mimetype": "text/x-python",
   "name": "python",
   "nbconvert_exporter": "python",
   "pygments_lexer": "ipython3",
   "version": "3.6.5"
  }
 },
 "nbformat": 4,
 "nbformat_minor": 2
}
