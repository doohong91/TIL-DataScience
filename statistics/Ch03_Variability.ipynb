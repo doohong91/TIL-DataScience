{
 "cells": [
  {
   "cell_type": "markdown",
   "metadata": {},
   "source": [
    "### Task \n",
    "1. Import pandas, numpy, matplotlib.pyplot, scipy.stats"
   ]
  },
  {
   "cell_type": "code",
   "execution_count": 2,
   "metadata": {},
   "outputs": [],
   "source": [
    "import pandas as pd\n",
    "import numpy as np\n",
    "import matplotlib.pyplot as plt\n",
    "import scipy.stats as stat\n",
    "%matplotlib inline"
   ]
  },
  {
   "cell_type": "markdown",
   "metadata": {},
   "source": [
    "### 1. Range \n",
    ": The difference between the largest and the smallest element in a data set.\n",
    "\n",
    "https://docs.scipy.org/doc/numpy/reference/generated/numpy.ptp.html\n",
    "\n",
    "##### Expected outcome:\n",
    "Range : 55611"
   ]
  },
  {
   "cell_type": "code",
   "execution_count": 3,
   "metadata": {},
   "outputs": [
    {
     "name": "stdout",
     "output_type": "stream",
     "text": [
      "Range: 55611\n"
     ]
    }
   ],
   "source": [
    "list = [36254, 38801, 46335, 46840, 47596, 55130, 56863, 78070, 33219, 88830]\n",
    "print('Range:',np.ptp(list))"
   ]
  },
  {
   "cell_type": "markdown",
   "metadata": {},
   "source": [
    "### 3. Variance\n",
    ": more on Ch09, for now it's a square of std. dev.\n",
    "\n",
    "https://docs.scipy.org/doc/numpy/reference/generated/numpy.var.html#numpy.var\n",
    "##### Expected outcome:\n",
    "Variance : 291622740.36"
   ]
  },
  {
   "cell_type": "code",
   "execution_count": 4,
   "metadata": {},
   "outputs": [
    {
     "name": "stdout",
     "output_type": "stream",
     "text": [
      "Variance: 291622740.36\n"
     ]
    }
   ],
   "source": [
    "list = [36254, 38801, 46335, 46840, 47596, 55130, 56863, 78070, 33219, 88830]\n",
    "print('Variance:',np.var(list))"
   ]
  },
  {
   "cell_type": "markdown",
   "metadata": {},
   "source": [
    "### 4. Standard Deviation - The Spread of the Data\n",
    ": the amount of variability or dispersion for a subject set of data from the mean\n",
    "\n",
    "Approximately 68% of data falls within 1 SD from the mean\n",
    "\n",
    "Approximately 95% of data falls within 2 SD from the mean\n",
    "\n",
    "Approximately 99.7% of data falls within 3 SD from the mean\n",
    "\n",
    "https://docs.scipy.org/doc/numpy/reference/generated/numpy.std.html#numpy.std\n",
    "##### Expected outcome:\n",
    "\n",
    "##### For 'height_1' \n",
    "Sample average: 5.89 \n",
    "\n",
    "Sample standard deviation: 0.57\n",
    "\n",
    "Improper standard deviation: 0.54\n",
    "\n",
    "##### For 'height_2'\n",
    "Sample average: 5.75\n",
    "\n",
    "Sample standard deviation: 0.43\n",
    "\n",
    "Less improper standard deviation: 0.43"
   ]
  },
  {
   "cell_type": "code",
   "execution_count": 5,
   "metadata": {},
   "outputs": [
    {
     "name": "stdout",
     "output_type": "stream",
     "text": [
      "Sample average: 5.89\n",
      "Sample standard deviation:0.57\n",
      "Improper standard deviation:0.54\n",
      "Sample average:5.75\n",
      "Sample standard deviation:0.44\n",
      "Improper standard deviation:0.44\n"
     ]
    }
   ],
   "source": [
    "height_1 = [5.9, 5.5, 6.1, 6.0, 7.2, 5.1, 5.3, 6.0, 5.8, 6.0]\n",
    "height_2 = np.random.random(size=1000)*1.5 + 5.0\n",
    "print('Sample average:',np.mean(height_1))\n",
    "print('Sample standard deviation:%.2f'%np.std(height_1,ddof=1))\n",
    "print('Improper standard deviation:%.2f'%np.std(height_1))\n",
    "\n",
    "print('Sample average:%.2f'%np.mean(height_2))\n",
    "print('Sample standard deviation:%.2f'%np.std(height_2,ddof=1))\n",
    "print('Improper standard deviation:%.2f'%np.std(height_2))"
   ]
  },
  {
   "cell_type": "markdown",
   "metadata": {},
   "source": [
    "### 5. Standard Error of the Mean (SEM)\n",
    ": how far the sample mean of the data is likely to be from the true population mean.\n",
    "\n",
    ": always smaller than the standard deviation.\n",
    "\n",
    "https://docs.scipy.org/doc/scipy/reference/generated/scipy.stats.sem.html\n",
    "\n",
    "##### Expected outcome :\n",
    "Standard Error : 0.1804\n",
    "\n",
    "**Note: The margin of error at 95% confidence for the sample mean is roughly twice the value (+/- .269), telling us that the true mean is most likely between 5.621 and 6.159."
   ]
  },
  {
   "cell_type": "code",
   "execution_count": 10,
   "metadata": {},
   "outputs": [
    {
     "name": "stdout",
     "output_type": "stream",
     "text": [
      "Sandard Error:0.1804\n",
      "Sandard Error:0.0139\n"
     ]
    }
   ],
   "source": [
    "height_1 = [5.9, 5.5, 6.1, 6.0, 7.2, 5.1, 5.3, 6.0, 5.8, 6.0]\n",
    "height_2 = np.random.random(size=1000)*1.5 + 5.0\n",
    "print('Sandard Error:%.4f'%stat.sem(height_1))\n",
    "print('Sandard Error:%.4f'%stat.sem(height_2))"
   ]
  },
  {
   "cell_type": "markdown",
   "metadata": {},
   "source": [
    "### Visualize the data. See it for yourself."
   ]
  },
  {
   "cell_type": "code",
   "execution_count": 6,
   "metadata": {},
   "outputs": [],
   "source": [
    "# boxplots for height_1 and height_2"
   ]
  },
  {
   "cell_type": "code",
   "execution_count": 7,
   "metadata": {},
   "outputs": [
    {
     "data": {
      "image/png": "[encoded data removed]",
      "text/plain": [
       "<Figure size 576x576 with 2 Axes>"
      ]
     },
     "metadata": {},
     "output_type": "display_data"
    }
   ],
   "source": [
    "plt.figure(figsize = (8,8))\n",
    "plt.subplot(1,2,1)\n",
    "plt.boxplot(height_1)\n",
    "plt.subplot(1,2,2)\n",
    "plt.boxplot(height_2)\n",
    "plt.show()"
   ]
  },
  {
   "cell_type": "code",
   "execution_count": null,
   "metadata": {},
   "outputs": [],
   "source": []
  }
 ],
 "metadata": {
  "kernelspec": {
   "display_name": "Python 3",
   "language": "python",
   "name": "python3"
  },
  "language_info": {
   "codemirror_mode": {
    "name": "ipython",
    "version": 3
   },
   "file_extension": ".py",
   "mimetype": "text/x-python",
   "name": "python",
   "nbconvert_exporter": "python",
   "pygments_lexer": "ipython3",
   "version": "3.6.5"
  }
 },
 "nbformat": 4,
 "nbformat_minor": 2
}
